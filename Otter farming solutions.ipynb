{
 "cells": [
  {
   "cell_type": "code",
   "execution_count": 1,
   "metadata": {},
   "outputs": [
    {
     "name": "stdout",
     "output_type": "stream",
     "text": [
      "Hello world\n"
     ]
    }
   ],
   "source": [
    "print(\"Hello world\")"
   ]
  },
  {
   "cell_type": "code",
   "execution_count": 2,
   "metadata": {},
   "outputs": [],
   "source": [
    "import sqlite3\n",
    "import logging\n",
    "from datetime import datetime\n",
    "import pytz\n",
    "import csv\n",
    "\n",
    "from typing import Any, Optional\n",
    "\n",
    "class Database:\n",
    "    def __init__(self, database_name: str) -> None:\n",
    "        self.database_name = database_name\n",
    "        self.connection = None\n",
    "\n",
    "    def __enter__(self):\n",
    "        conn = sqlite3.connect(self.database_name, isolation_level=None)\n",
    "        self.connection = conn\n",
    "        return self\n",
    "\n",
    "    def __exit__(self, exc_type: BaseException, exc_value: BaseException, exc_tb: BaseException) -> None:\n",
    "        assert self.connection is not None, \"No current open connection to DB\"\n",
    "        self.connection.close()\n",
    "        self.connection = None\n",
    "\n",
    "    def _execute_query(self, cursor: sqlite3.Cursor, query: str, parameters: Optional[Any]={}, many: bool=False) -> None:\n",
    "        if not many:\n",
    "            cursor.execute(query, parameters)\n",
    "\n",
    "        else:\n",
    "            cursor.executemany(query, parameters)\n",
    "        logging.info(\"Executing query: %s. With parameters: %s\", query, parameters)\n",
    "\n",
    "    def create_master_table(self, query: str) -> None:\n",
    "        cursor = self.connection.cursor()\n",
    "        self._execute_query(cursor, query)\n",
    "\n",
    "    def create_animal_tables(self, animals_and_breeds: dict[str, list]):\n",
    "        query = \"\"\n",
    "\n",
    "        for animal, _ in animals_and_breeds.items():\n",
    "            query = f'''\n",
    "                CREATE TABLE IF NOT EXISTS {animal}DB(\n",
    "                    {animal}ID INTEGER,\n",
    "                    CastrationStatus INTEGER,\n",
    "                    Breed TEXT,\n",
    "                    BirthRecordID INTEGER,\n",
    "\n",
    "                    FOREIGN KEY({animal}ID) REFERENCES animals(ID),\n",
    "                    FOREIGN KEY(BirthRecordID) REFERENCES BirthDB(BirthID),\n",
    "                    )\n",
    "                    '''\n",
    "\n",
    "\n",
    "            cursor = self.connection.cursor()\n",
    "            self._execute_query(cursor, query)\n",
    "\n",
    "    def create_vaccination_table(self):\n",
    "        # Need to remember to convert the dosage into a standard unit\n",
    "        # likely will be microL or microG will likely be implemented on the frontend through the UI\n",
    "\n",
    "        # Type refers to method of administration injected, nasal spray\n",
    "        query = \"\"\"\n",
    "            CREATE IF NOT EXISTS VaccinationDB(\n",
    "                VaccinationID INTEGER PRIMAYR KEY,\n",
    "                AnimalID INTEGER,\n",
    "                Vaccine TEXT,\n",
    "                Dosage/microL INT,\n",
    "                Type TEXT,\n",
    "                Date TEXT\n",
    "\n",
    "                FOREIGN KEY(AnimalID) REFERENCES animals(ID)\n",
    "                \"\"\"\n",
    "\n",
    "        cursor = self.connection.cursor()\n",
    "        self._execute_query(cursor, query)\n",
    "\n",
    "\n",
    "    # Initialise these values to zero so birth count and pairings count can be done automatically in backend.\n",
    "    # Inlcude a female or male value for an external animal, like a way to record for them in birth records.\n",
    "    def create_birth_record_table(self):\n",
    "        query = \"\"\"\n",
    "            CREATE IF NOT EXISTS BirthDB(\n",
    "                BirthID INTEGER PRIMAYR KEY,\n",
    "                FemaleID INTEGER,\n",
    "                MaleID INTEGER,\n",
    "                OffSpringID INTEGER,\n",
    "                PregnancyCount INTEGER,\n",
    "                CountFromCouple INTEGER,\n",
    "                DateOfDelivery TEXT\n",
    "\n",
    "                FOREIGN KEY(FemaleID) REFERENCES animals(ID)\n",
    "                FOREIGN KEY(MaleID) REFERENCES animals(ID)\n",
    "                FOREIGN KEY(OffSpringID) REFERENCES animals(ID)\n",
    "                \"\"\"\n",
    "\n",
    "        cursor = self.connection.cursor()\n",
    "        self._execute_query(cursor, query)\n",
    "\n",
    "    # Convert milk produced into \n",
    "    def create_milk_production_table(self):\n",
    "        query  = \"\"\"\n",
    "            CREATE TABLE IF NOT EXISTS MilkProductionDB(\n",
    "                MilkID INTEGER PRIMAYR KEY,\n",
    "                FemaleID INTEGER,\n",
    "                MilkProduced INTEGER,\n",
    "                Date TEXT,\n",
    "                \n",
    "                FOREIGN KEY(FemaleID) REFERENCES animals(ID)\n",
    "                \"\"\"\n",
    "\n",
    "        cursor = self.connection.cursor()\n",
    "        self._execute_query(cursor, query)\n",
    "\n",
    "    def _get_column_names(self, table: str) -> tuple[str, int]:\n",
    "        select_query = f\"SELECT * FROM {table}\"\n",
    "        cursor = self.connection.cursor()\n",
    "        self._execute_query(cursor, select_query)\n",
    "        column_name = tuple(map(lambda x: x[0], cursor.description))\n",
    "        str_column_names = str(column_name).replace(\"'\", \"\")\n",
    "\n",
    "        return str_column_names, len(column_name)\n",
    "\n",
    "    def bulk_insert_records(self, csv_file_path: str, table: str) -> None:\n",
    "        file = open(csv_file_path)\n",
    "        records = csv.reader(file)\n",
    "        num_of_records = len(list(csv.reader(open(csv_file_path))))\n",
    "        \n",
    "        logging.info(f\"Inserting {num_of_records} records\")\n",
    "\n",
    "        #Return column headers of the table you're about to insert into\n",
    "        column_names, number_of_columns = self._get_column_names(table)\n",
    "        q_tuple = str(tuple(\"?\"*number_of_columns)).replace(\"'\", \"\")\n",
    "        \n",
    "        query = f\"INSERT INTO {table} {str(column_names)} VALUES {q_tuple}\"\n",
    "        cursor = self.connection.cursor()\n",
    "        self._execute_query(cursor, query, parameters=records, many=True)\n",
    "\n",
    "    # For testing\n",
    "    def delete_table(self, table):\n",
    "        query = f\"DROP TABLE IF EXISTS {table}\"\n",
    "        cursor = self.connection.cursor()\n",
    "        self._execute_query(cursor, query)\n",
    "\n",
    "    # For testing\n",
    "    def print_records(self, table):\n",
    "        query = f\"SELECT * FROM {table}\"\n",
    "        cursor = self.connection.cursor()\n",
    "        records = cursor.execute(query).fetchall()\n",
    "\n",
    "        print(records)\n",
    "\n"
   ]
  },
  {
   "cell_type": "code",
   "execution_count": 3,
   "metadata": {},
   "outputs": [],
   "source": [
    "def configure_logging(log_file_path):\n",
    "    logging.basicConfig(filename=log_file_path, encoding=\"utf-8\", level=logging.DEBUG)\n",
    "    tz = pytz.timezone(\"Africa/Kampala\")\n",
    "    logging.info(\"*\"*20)\n",
    "    logging.info(\"Date and Time: %s\", datetime.now(tz=tz))\n"
   ]
  },
  {
   "cell_type": "code",
   "execution_count": 5,
   "metadata": {},
   "outputs": [
    {
     "name": "stdout",
     "output_type": "stream",
     "text": [
      "[('60985938-e78b-41c4-b9c9-431fb45d97c9', '125', 222, '12/23/22')]\n",
      "[('3cd22ddf-ae5e-4514-b603-b9d9af2a3381', 293, 'Covid', 2, 'Injection', '12/23/22')]\n",
      "[]\n"
     ]
    }
   ],
   "source": [
    "import sys\n",
    "from sys import path\n",
    "import os\n",
    "\n",
    "parent_path = os.getcwd()\n",
    "path.append(parent_path + \"\\\\backend\")\n",
    "from database_accesor import Database\n",
    "db = Database(\"DarkSister.db\")\n",
    "\n",
    "master_table_query = '''\n",
    "        CREATE TABLE IF NOT EXISTS animals(\n",
    "            ID INTEGER PRIMARY KEY,\n",
    "            Name TEXT,\n",
    "            Type TEXT,\n",
    "            Gender TEXT,\n",
    "            DateOfBirth INTEGER,\n",
    "            Hisory TEXT,\n",
    "            Deleted INTEGER,\n",
    "            DateAdded TEXT\n",
    "        )\n",
    "        '''\n",
    "\n",
    "animal_types_and_breeds = {\n",
    "    \"Goat\": [\"Local Breed\"],\n",
    "    \"Cow\": [\"Ankole\", \"Milk Cows\"],\n",
    "    \"Sheep\": [\"Doper, White\"],\n",
    "    \"Rabbit\": [\"Local Breed\"],\n",
    "    \"Chicken\": [\"Free Range\"]\n",
    "}\n",
    "\n",
    "# with db:\n",
    "#     db.delete_table(\"animals\")\n",
    "#     db.create_master_table(master_table_query)\n",
    "#     db.create_animal_tables(animal_types_and_breeds)\n",
    "#     db.bulk_insert_records(\"test-animals.csv\", \"animals\")\n",
    "\n",
    "with db:\n",
    "    db.print_records(\"MilkDB\")\n",
    "    db.print_records(\"VaccinationDB\")\n",
    "    db.print_records(\"MasterDB\")\n",
    "    \n"
   ]
  },
  {
   "cell_type": "code",
   "execution_count": 38,
   "metadata": {},
   "outputs": [
    {
     "name": "stdout",
     "output_type": "stream",
     "text": [
      "10000 10000\n"
     ]
    }
   ],
   "source": [
    "\n",
    "import uuid\n",
    "ids = [str(uuid.uuid4()) for _ in range(10000)]\n",
    "print(len(ids), len(set(ids)))\n",
    "\n",
    "\n"
   ]
  },
  {
   "cell_type": "code",
   "execution_count": 8,
   "metadata": {},
   "outputs": [
    {
     "data": {
      "text/plain": [
       "'10/05/2022 22:05:31'"
      ]
     },
     "execution_count": 8,
     "metadata": {},
     "output_type": "execute_result"
    }
   ],
   "source": [
    "tz = pytz.timezone(\"Africa/Kampala\")\n",
    "dt = datetime.now(tz=tz)\n",
    "\n",
    "dt.strftime(\"%m/%d/%Y %H:%M:%S\")"
   ]
  }
 ],
 "metadata": {
  "kernelspec": {
   "display_name": "Python 3.9.5 64-bit",
   "language": "python",
   "name": "python3"
  },
  "language_info": {
   "codemirror_mode": {
    "name": "ipython",
    "version": 3
   },
   "file_extension": ".py",
   "mimetype": "text/x-python",
   "name": "python",
   "nbconvert_exporter": "python",
   "pygments_lexer": "ipython3",
   "version": "3.9.5 (tags/v3.9.5:0a7dcbd, May  3 2021, 17:27:52) [MSC v.1928 64 bit (AMD64)]"
  },
  "orig_nbformat": 4,
  "vscode": {
   "interpreter": {
    "hash": "81794d4967e6c3204c66dcd87b604927b115b27c00565d3d43f05ba2f3a2cb0d"
   }
  }
 },
 "nbformat": 4,
 "nbformat_minor": 2
}
